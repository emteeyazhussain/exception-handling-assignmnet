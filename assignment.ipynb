{
 "cells": [
  {
   "cell_type": "code",
   "execution_count": 1,
   "metadata": {},
   "outputs": [
    {
     "data": {
      "text/plain": [
       "' The difference btw error and exception  is  An exception is an error that can handled by a programmer.An exception\\nwhich are not handled by a programmer,becomes an error and the difference btw exception and error is exception occurs only\\nat runtime and Error occur at compile time or runtime.'"
      ]
     },
     "execution_count": 1,
     "metadata": {},
     "output_type": "execute_result"
    }
   ],
   "source": [
    "# Q1:\n",
    "\n",
    "# Answer:\n",
    "\"\"\"An exception is an event,which occurs during the execution of a program that disrupts the normal flow of the \n",
    "       program's instructions.In general, when a Python script encounters a situations that it cannot cop wth,it \n",
    "       raises an exception. An exception is a python object  that represent an error and it prevent to crash the code \"\"\"\n",
    "       \n",
    "\"\"\" The difference btw error and exception  is  An exception is an error that can handled by a programmer.An exception\n",
    "which are not handled by a programmer,becomes an error and the difference btw exception and error is exception occurs only\n",
    "at runtime and Error occur at compile time or runtime.\"\"\""
   ]
  },
  {
   "cell_type": "code",
   "execution_count": 3,
   "metadata": {},
   "outputs": [
    {
     "ename": "ZeroDivisionError",
     "evalue": "division by zero",
     "output_type": "error",
     "traceback": [
      "\u001b[1;31m---------------------------------------------------------------------------\u001b[0m",
      "\u001b[1;31mZeroDivisionError\u001b[0m                         Traceback (most recent call last)",
      "Cell \u001b[1;32mIn[3], line 11\u001b[0m\n\u001b[0;32m      8\u001b[0m amount \u001b[39m=\u001b[39m \u001b[39m1000\u001b[39m\n\u001b[0;32m     10\u001b[0m \u001b[39m#erform division by zero\u001b[39;00m\n\u001b[1;32m---> 11\u001b[0m a\u001b[39m=\u001b[39m amount\u001b[39m/\u001b[39;49m\u001b[39m0\u001b[39;49m\n\u001b[0;32m     12\u001b[0m \u001b[39mprint\u001b[39m(a)\n",
      "\u001b[1;31mZeroDivisionError\u001b[0m: division by zero"
     ]
    }
   ],
   "source": [
    "# Q2\n",
    "# Answer: the runtime system will abort the program (i.e.crush) and an exception message will print to the console.\n",
    "\n",
    "# Eg:\n",
    "\n",
    "#initialize the amount variable\n",
    "\n",
    "amount = 1000\n",
    "\n",
    "#erform division by zero\n",
    "a= amount/0\n",
    "print(a)\n",
    "   \n",
    "   "
   ]
  },
  {
   "cell_type": "code",
   "execution_count": 4,
   "metadata": {},
   "outputs": [
    {
     "name": "stdout",
     "output_type": "stream",
     "text": [
      "AN errror occured\n"
     ]
    }
   ],
   "source": [
    "# Q3:\n",
    "\"\"\"Try block statement are used to catch and handle the exceptions in python.Statements that are raise exceptions are \n",
    "kept inside the try clause and the statement that are handle the exception are written inside except clause:\"\"\"\n",
    "\n",
    "   # Example:\n",
    "   \n",
    "a = \"imtiyaz\"\n",
    "b = 2\n",
    "\n",
    "try:\n",
    "   a+b\n",
    "   \n",
    "except:\n",
    "   print(\"AN errror occured\")\n",
    "   \n",
    "   "
   ]
  },
  {
   "cell_type": "code",
   "execution_count": 9,
   "metadata": {},
   "outputs": [
    {
     "name": "stdout",
     "output_type": "stream",
     "text": [
      "-5.0\n",
      "a/b result in 0\n"
     ]
    }
   ],
   "source": [
    "# Q4:\n",
    "\n",
    "#1. try and else\n",
    "\"\"\"the code enters in the else block only if the try clause does not raise an exception\"\"\"\n",
    "\n",
    "def test(a,b):\n",
    "   \n",
    "   try:\n",
    "      \n",
    "      c= ((a+b) / (a-b))\n",
    "      \n",
    "   except ZeroDivisionError:\n",
    "      print(\"a/b result in 0\")\n",
    "      \n",
    "   else:\n",
    "      print(c)\n",
    "      \n",
    "test(2.0,3.0) #because the code does not raise an exception so the else statement is execute\n",
    "\n",
    "test(3.0,3.0)\n",
    "\n",
    "\n",
    "\n"
   ]
  },
  {
   "cell_type": "code",
   "execution_count": 10,
   "metadata": {},
   "outputs": [
    {
     "name": "stdout",
     "output_type": "stream",
     "text": [
      "-5.0\n",
      "hey i am always execute\n",
      "a/b result in 0\n",
      "hey i am always execute\n"
     ]
    }
   ],
   "source": [
    "#Q4; finally:\n",
    "\n",
    "\n",
    "def test(a,b):\n",
    "   \n",
    "   try:\n",
    "      \n",
    "      c= ((a+b) / (a-b))\n",
    "      \n",
    "   except ZeroDivisionError:\n",
    "      print(\"a/b result in 0\")\n",
    "      \n",
    "   else:\n",
    "      print(c)\n",
    "      # some code always execute\n",
    "   finally:\n",
    "      \n",
    "      print(\"hey i am always execute\")\n",
    "      \n",
    "      \n",
    "test(2.0,3.0) #because the code does not raise an exception so the else statement is execute\n",
    "\n",
    "test(3.0,3.0)\n",
    "\n",
    "\n"
   ]
  },
  {
   "cell_type": "code",
   "execution_count": null,
   "metadata": {},
   "outputs": [
    {
     "ename": "ValueError",
     "evalue": "Invalid number",
     "output_type": "error",
     "traceback": [
      "\u001b[1;31m---------------------------------------------------------------------------\u001b[0m",
      "\u001b[1;31mValueError\u001b[0m                                Traceback (most recent call last)",
      "Cell \u001b[1;32mIn[17], line 6\u001b[0m\n\u001b[0;32m      3\u001b[0m a \u001b[39m=\u001b[39m \u001b[39mint\u001b[39m(\u001b[39minput\u001b[39m(\u001b[39m\"\u001b[39m\u001b[39mEnter any number btw  5 and 9\u001b[39m\u001b[39m\"\u001b[39m))\n\u001b[0;32m      5\u001b[0m \u001b[39mif\u001b[39;00m (a \u001b[39m<\u001b[39m\u001b[39m5\u001b[39m \u001b[39mor\u001b[39;00m a\u001b[39m>\u001b[39m\u001b[39m9\u001b[39m):\n\u001b[1;32m----> 6\u001b[0m    \u001b[39mraise\u001b[39;00m \u001b[39mValueError\u001b[39;00m(\u001b[39m\"\u001b[39m\u001b[39mInvalid number\u001b[39m\u001b[39m\"\u001b[39m)\n",
      "\u001b[1;31mValueError\u001b[0m: Invalid number"
     ]
    }
   ],
   "source": [
    "#Q4;\n",
    "# Raise\n",
    "a = int(input(\"Enter any number btw  5 and 9\"))\n",
    "\n",
    "if (a <5 or a>9):\n",
    "   raise ValueError(\"Invalid number\")"
   ]
  },
  {
   "cell_type": "code",
   "execution_count": 2,
   "metadata": {},
   "outputs": [],
   "source": [
    "# Q5:\n",
    "#    Defining Custom Exceptions\n",
    "# In Python, we can define custom exceptions by creating a new class that is derived from the built-in Exception class.\n",
    "\n",
    "# Here's the syntax to define custom exceptions:\n",
    "\n",
    "# class CustomError(Exception):\n",
    "#   # code ...\n",
    "#   pass\n",
    "\n",
    "# try:\n",
    "#   # code ...\n",
    "\n",
    "# except CustomError:\n",
    "#   # code...\n",
    "# This is useful because sometimes we might want to do something when a particular exception is raised.\n",
    "# For example, sending an error report to the admin, calling an api, etc."
   ]
  },
  {
   "cell_type": "code",
   "execution_count": 1,
   "metadata": {},
   "outputs": [
    {
     "ename": "SalaryNotInRangeError",
     "evalue": "Salary is not in (5000, 15000) range",
     "output_type": "error",
     "traceback": [
      "\u001b[1;31m---------------------------------------------------------------------------\u001b[0m",
      "\u001b[1;31mSalaryNotInRangeError\u001b[0m                     Traceback (most recent call last)",
      "Cell \u001b[1;32mIn[1], line 17\u001b[0m\n\u001b[0;32m     15\u001b[0m salary \u001b[39m=\u001b[39m \u001b[39mint\u001b[39m(\u001b[39minput\u001b[39m(\u001b[39m\"\u001b[39m\u001b[39mEnter salary amount: \u001b[39m\u001b[39m\"\u001b[39m))\n\u001b[0;32m     16\u001b[0m \u001b[39mif\u001b[39;00m \u001b[39mnot\u001b[39;00m \u001b[39m5000\u001b[39m \u001b[39m<\u001b[39m salary \u001b[39m<\u001b[39m \u001b[39m15000\u001b[39m:\n\u001b[1;32m---> 17\u001b[0m     \u001b[39mraise\u001b[39;00m SalaryNotInRangeError(salary)\n",
      "\u001b[1;31mSalaryNotInRangeError\u001b[0m: Salary is not in (5000, 15000) range"
     ]
    }
   ],
   "source": [
    "class SalaryNotInRangeError(Exception):\n",
    "    \"\"\"Exception raised for errors in the input salary.\n",
    "\n",
    "    Attributes:\n",
    "        salary -- input salary which caused the error\n",
    "        message -- explanation of the error\n",
    "    \"\"\"\n",
    "\n",
    "    def __init__(self, salary, message=\"Salary is not in (5000, 15000) range\"):\n",
    "        self.salary = salary\n",
    "        self.message = message\n",
    "        super().__init__(self.message)\n",
    "\n",
    "\n",
    "salary = int(input(\"Enter salary amount: \"))\n",
    "if not 5000 < salary < 15000:\n",
    "    raise SalaryNotInRangeError(salary)"
   ]
  },
  {
   "cell_type": "code",
   "execution_count": null,
   "metadata": {},
   "outputs": [],
   "source": []
  }
 ],
 "metadata": {
  "kernelspec": {
   "display_name": "Python 3",
   "language": "python",
   "name": "python3"
  },
  "language_info": {
   "codemirror_mode": {
    "name": "ipython",
    "version": 3
   },
   "file_extension": ".py",
   "mimetype": "text/x-python",
   "name": "python",
   "nbconvert_exporter": "python",
   "pygments_lexer": "ipython3",
   "version": "3.11.0"
  },
  "orig_nbformat": 4,
  "vscode": {
   "interpreter": {
    "hash": "c261aea317cc0286b3b3261fbba9abdec21eaa57589985bb7a274bf54d6cc0a7"
   }
  }
 },
 "nbformat": 4,
 "nbformat_minor": 2
}
